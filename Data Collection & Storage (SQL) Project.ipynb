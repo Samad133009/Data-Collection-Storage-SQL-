{
 "cells": [
  {
   "cell_type": "markdown",
   "metadata": {},
   "source": [
    "# Project Description"
   ]
  },
  {
   "cell_type": "markdown",
   "metadata": {},
   "source": [
    "My name is Mohammad Abdus Samad.I am working as an analyst for Zuber, a new ride-sharing company that's launching in Chicago.My task is to find patterns in the available information.I want to understand passenger preferences and the impact of external factors on rides."
   ]
  },
  {
   "cell_type": "markdown",
   "metadata": {},
   "source": [
    "# Project Goal"
   ]
  },
  {
   "cell_type": "markdown",
   "metadata": {},
   "source": [
    "Analyzing data from competitors, and test a hypothesis about the impact of weather on ride frequency."
   ]
  },
  {
   "cell_type": "markdown",
   "metadata": {},
   "source": [
    "# Project Contents"
   ]
  },
  {
   "cell_type": "markdown",
   "metadata": {},
   "source": [
    "-  <a href='#the_destination4'>Exploratory data analysis (Python)</a>\n",
    "-  <a href='#the_destination5'>Testing hypotheses (Python)</a>\n",
    "-  <a href='#the_destination'>Overall Conclusion</a>"
   ]
  },
  {
   "cell_type": "markdown",
   "metadata": {},
   "source": [
    "<a id='the_destination4'></a>\n",
    "# Step 4. Exploratory data analysis (Python)"
   ]
  },
  {
   "cell_type": "markdown",
   "metadata": {},
   "source": [
    "**Importing the libraries:**"
   ]
  },
  {
   "cell_type": "code",
   "execution_count": 1,
   "metadata": {},
   "outputs": [],
   "source": [
    "import pandas as pd\n",
    "import numpy as np\n",
    "import matplotlib.pyplot as plt\n",
    "from scipy import stats as st"
   ]
  },
  {
   "cell_type": "markdown",
   "metadata": {},
   "source": [
    "**Information for the \"project_sql_result_01\" dataset:**"
   ]
  },
  {
   "cell_type": "code",
   "execution_count": 2,
   "metadata": {},
   "outputs": [
    {
     "name": "stdout",
     "output_type": "stream",
     "text": [
      "<class 'pandas.core.frame.DataFrame'>\n",
      "RangeIndex: 64 entries, 0 to 63\n",
      "Data columns (total 2 columns):\n",
      "company_name    64 non-null object\n",
      "trips_amount    64 non-null int64\n",
      "dtypes: int64(1), object(1)\n",
      "memory usage: 1.1+ KB\n"
     ]
    },
    {
     "data": {
      "text/html": [
       "<div>\n",
       "<style scoped>\n",
       "    .dataframe tbody tr th:only-of-type {\n",
       "        vertical-align: middle;\n",
       "    }\n",
       "\n",
       "    .dataframe tbody tr th {\n",
       "        vertical-align: top;\n",
       "    }\n",
       "\n",
       "    .dataframe thead th {\n",
       "        text-align: right;\n",
       "    }\n",
       "</style>\n",
       "<table border=\"1\" class=\"dataframe\">\n",
       "  <thead>\n",
       "    <tr style=\"text-align: right;\">\n",
       "      <th></th>\n",
       "      <th>company_name</th>\n",
       "      <th>trips_amount</th>\n",
       "    </tr>\n",
       "  </thead>\n",
       "  <tbody>\n",
       "    <tr>\n",
       "      <td>0</td>\n",
       "      <td>Flash Cab</td>\n",
       "      <td>19558</td>\n",
       "    </tr>\n",
       "    <tr>\n",
       "      <td>1</td>\n",
       "      <td>Taxi Affiliation Services</td>\n",
       "      <td>11422</td>\n",
       "    </tr>\n",
       "    <tr>\n",
       "      <td>2</td>\n",
       "      <td>Medallion Leasin</td>\n",
       "      <td>10367</td>\n",
       "    </tr>\n",
       "    <tr>\n",
       "      <td>3</td>\n",
       "      <td>Yellow Cab</td>\n",
       "      <td>9888</td>\n",
       "    </tr>\n",
       "    <tr>\n",
       "      <td>4</td>\n",
       "      <td>Taxi Affiliation Service Yellow</td>\n",
       "      <td>9299</td>\n",
       "    </tr>\n",
       "    <tr>\n",
       "      <td>...</td>\n",
       "      <td>...</td>\n",
       "      <td>...</td>\n",
       "    </tr>\n",
       "    <tr>\n",
       "      <td>59</td>\n",
       "      <td>4053 - 40193 Adwar H. Nikola</td>\n",
       "      <td>7</td>\n",
       "    </tr>\n",
       "    <tr>\n",
       "      <td>60</td>\n",
       "      <td>2733 - 74600 Benny Jona</td>\n",
       "      <td>7</td>\n",
       "    </tr>\n",
       "    <tr>\n",
       "      <td>61</td>\n",
       "      <td>5874 - 73628 Sergey Cab Corp.</td>\n",
       "      <td>5</td>\n",
       "    </tr>\n",
       "    <tr>\n",
       "      <td>62</td>\n",
       "      <td>2241 - 44667 - Felman Corp, Manuel Alonso</td>\n",
       "      <td>3</td>\n",
       "    </tr>\n",
       "    <tr>\n",
       "      <td>63</td>\n",
       "      <td>3556 - 36214 RC Andrews Cab</td>\n",
       "      <td>2</td>\n",
       "    </tr>\n",
       "  </tbody>\n",
       "</table>\n",
       "<p>64 rows × 2 columns</p>\n",
       "</div>"
      ],
      "text/plain": [
       "                                 company_name  trips_amount\n",
       "0                                   Flash Cab         19558\n",
       "1                   Taxi Affiliation Services         11422\n",
       "2                            Medallion Leasin         10367\n",
       "3                                  Yellow Cab          9888\n",
       "4             Taxi Affiliation Service Yellow          9299\n",
       "..                                        ...           ...\n",
       "59               4053 - 40193 Adwar H. Nikola             7\n",
       "60                    2733 - 74600 Benny Jona             7\n",
       "61              5874 - 73628 Sergey Cab Corp.             5\n",
       "62  2241 - 44667 - Felman Corp, Manuel Alonso             3\n",
       "63                3556 - 36214 RC Andrews Cab             2\n",
       "\n",
       "[64 rows x 2 columns]"
      ]
     },
     "metadata": {},
     "output_type": "display_data"
    }
   ],
   "source": [
    "try:\n",
    "    project_sql_result_01 = pd.read_csv('project_sql_result_01.csv')\n",
    "except:\n",
    "    project_sql_result_01 = pd.read_csv('/datasets/project_sql_result_01.csv.')\n",
    "project_sql_result_01.info()\n",
    "display(project_sql_result_01)"
   ]
  },
  {
   "cell_type": "markdown",
   "metadata": {},
   "source": [
    "There are 64 rows & 2 columns in the 'project_sql_result_01' dataset."
   ]
  },
  {
   "cell_type": "markdown",
   "metadata": {},
   "source": [
    "**Checking data types:**"
   ]
  },
  {
   "cell_type": "code",
   "execution_count": 3,
   "metadata": {},
   "outputs": [
    {
     "data": {
      "text/plain": [
       "company_name    object\n",
       "trips_amount     int64\n",
       "dtype: object"
      ]
     },
     "execution_count": 3,
     "metadata": {},
     "output_type": "execute_result"
    }
   ],
   "source": [
    "project_sql_result_01.dtypes"
   ]
  },
  {
   "cell_type": "markdown",
   "metadata": {},
   "source": [
    "In the 'project_sql_result_01' dataset, 'company_name' column is object data type & 'trips_amount' is the integer data type."
   ]
  },
  {
   "cell_type": "markdown",
   "metadata": {},
   "source": [
    "**Checking duplicates in the 'project_sql_result_01' dataset:**"
   ]
  },
  {
   "cell_type": "code",
   "execution_count": 4,
   "metadata": {},
   "outputs": [
    {
     "name": "stdout",
     "output_type": "stream",
     "text": [
      "0\n"
     ]
    }
   ],
   "source": [
    "print(project_sql_result_01.duplicated().sum())"
   ]
  },
  {
   "cell_type": "markdown",
   "metadata": {},
   "source": [
    "In the 'project_sql_result_01' dataset, there are no duplicate values."
   ]
  },
  {
   "cell_type": "markdown",
   "metadata": {},
   "source": [
    "**Checking missing values in the 'project_sql_result_01' dataset:**"
   ]
  },
  {
   "cell_type": "code",
   "execution_count": 5,
   "metadata": {},
   "outputs": [
    {
     "data": {
      "text/plain": [
       "company_name    0\n",
       "trips_amount    0\n",
       "dtype: int64"
      ]
     },
     "execution_count": 5,
     "metadata": {},
     "output_type": "execute_result"
    }
   ],
   "source": [
    "project_sql_result_01.isnull().sum()"
   ]
  },
  {
   "cell_type": "markdown",
   "metadata": {},
   "source": [
    "In the 'project_sql_result_01' dataset, there are no missing values."
   ]
  },
  {
   "cell_type": "markdown",
   "metadata": {},
   "source": [
    "**Information for the \"project_sql_result_04\" dataset:**"
   ]
  },
  {
   "cell_type": "code",
   "execution_count": 6,
   "metadata": {},
   "outputs": [
    {
     "name": "stdout",
     "output_type": "stream",
     "text": [
      "<class 'pandas.core.frame.DataFrame'>\n",
      "RangeIndex: 94 entries, 0 to 93\n",
      "Data columns (total 2 columns):\n",
      "dropoff_location_name    94 non-null object\n",
      "average_trips            94 non-null float64\n",
      "dtypes: float64(1), object(1)\n",
      "memory usage: 1.6+ KB\n"
     ]
    },
    {
     "data": {
      "text/html": [
       "<div>\n",
       "<style scoped>\n",
       "    .dataframe tbody tr th:only-of-type {\n",
       "        vertical-align: middle;\n",
       "    }\n",
       "\n",
       "    .dataframe tbody tr th {\n",
       "        vertical-align: top;\n",
       "    }\n",
       "\n",
       "    .dataframe thead th {\n",
       "        text-align: right;\n",
       "    }\n",
       "</style>\n",
       "<table border=\"1\" class=\"dataframe\">\n",
       "  <thead>\n",
       "    <tr style=\"text-align: right;\">\n",
       "      <th></th>\n",
       "      <th>dropoff_location_name</th>\n",
       "      <th>average_trips</th>\n",
       "    </tr>\n",
       "  </thead>\n",
       "  <tbody>\n",
       "    <tr>\n",
       "      <td>0</td>\n",
       "      <td>Loop</td>\n",
       "      <td>10727.466667</td>\n",
       "    </tr>\n",
       "    <tr>\n",
       "      <td>1</td>\n",
       "      <td>River North</td>\n",
       "      <td>9523.666667</td>\n",
       "    </tr>\n",
       "    <tr>\n",
       "      <td>2</td>\n",
       "      <td>Streeterville</td>\n",
       "      <td>6664.666667</td>\n",
       "    </tr>\n",
       "    <tr>\n",
       "      <td>3</td>\n",
       "      <td>West Loop</td>\n",
       "      <td>5163.666667</td>\n",
       "    </tr>\n",
       "    <tr>\n",
       "      <td>4</td>\n",
       "      <td>O'Hare</td>\n",
       "      <td>2546.900000</td>\n",
       "    </tr>\n",
       "    <tr>\n",
       "      <td>...</td>\n",
       "      <td>...</td>\n",
       "      <td>...</td>\n",
       "    </tr>\n",
       "    <tr>\n",
       "      <td>89</td>\n",
       "      <td>Mount Greenwood</td>\n",
       "      <td>3.137931</td>\n",
       "    </tr>\n",
       "    <tr>\n",
       "      <td>90</td>\n",
       "      <td>Hegewisch</td>\n",
       "      <td>3.117647</td>\n",
       "    </tr>\n",
       "    <tr>\n",
       "      <td>91</td>\n",
       "      <td>Burnside</td>\n",
       "      <td>2.333333</td>\n",
       "    </tr>\n",
       "    <tr>\n",
       "      <td>92</td>\n",
       "      <td>East Side</td>\n",
       "      <td>1.961538</td>\n",
       "    </tr>\n",
       "    <tr>\n",
       "      <td>93</td>\n",
       "      <td>Riverdale</td>\n",
       "      <td>1.800000</td>\n",
       "    </tr>\n",
       "  </tbody>\n",
       "</table>\n",
       "<p>94 rows × 2 columns</p>\n",
       "</div>"
      ],
      "text/plain": [
       "   dropoff_location_name  average_trips\n",
       "0                   Loop   10727.466667\n",
       "1            River North    9523.666667\n",
       "2          Streeterville    6664.666667\n",
       "3              West Loop    5163.666667\n",
       "4                 O'Hare    2546.900000\n",
       "..                   ...            ...\n",
       "89       Mount Greenwood       3.137931\n",
       "90             Hegewisch       3.117647\n",
       "91              Burnside       2.333333\n",
       "92             East Side       1.961538\n",
       "93             Riverdale       1.800000\n",
       "\n",
       "[94 rows x 2 columns]"
      ]
     },
     "metadata": {},
     "output_type": "display_data"
    }
   ],
   "source": [
    "try:\n",
    "    project_sql_result_04 = pd.read_csv('project_sql_result_04.csv')\n",
    "except:\n",
    "    project_sql_result_04 = pd.read_csv('/datasets/project_sql_result_04.csv.')\n",
    "project_sql_result_04.info()\n",
    "display(project_sql_result_04)"
   ]
  },
  {
   "cell_type": "markdown",
   "metadata": {},
   "source": [
    "There are 94 rows & 2 columns in the 'project_sql_result_04' dataset."
   ]
  },
  {
   "cell_type": "markdown",
   "metadata": {},
   "source": [
    "**Checking data types:**"
   ]
  },
  {
   "cell_type": "code",
   "execution_count": 7,
   "metadata": {},
   "outputs": [
    {
     "data": {
      "text/plain": [
       "dropoff_location_name     object\n",
       "average_trips            float64\n",
       "dtype: object"
      ]
     },
     "execution_count": 7,
     "metadata": {},
     "output_type": "execute_result"
    }
   ],
   "source": [
    "project_sql_result_04.dtypes"
   ]
  },
  {
   "cell_type": "markdown",
   "metadata": {},
   "source": [
    "In the 'project_sql_result_04' dataset, 'average_trips' column is float data type & 'dropoff_location_name' is the string data type."
   ]
  },
  {
   "cell_type": "markdown",
   "metadata": {},
   "source": [
    "**Checking duplicates in the 'project_sql_result_04' dataset:**"
   ]
  },
  {
   "cell_type": "code",
   "execution_count": 8,
   "metadata": {},
   "outputs": [
    {
     "name": "stdout",
     "output_type": "stream",
     "text": [
      "0\n"
     ]
    }
   ],
   "source": [
    "print(project_sql_result_04.duplicated().sum())"
   ]
  },
  {
   "cell_type": "markdown",
   "metadata": {},
   "source": [
    "In the 'project_sql_result_04' dataset, there are no duplicate values."
   ]
  },
  {
   "cell_type": "markdown",
   "metadata": {},
   "source": [
    "**Checking missing values in the 'project_sql_result_04' dataset:**"
   ]
  },
  {
   "cell_type": "code",
   "execution_count": 9,
   "metadata": {},
   "outputs": [
    {
     "data": {
      "text/plain": [
       "dropoff_location_name    0\n",
       "average_trips            0\n",
       "dtype: int64"
      ]
     },
     "execution_count": 9,
     "metadata": {},
     "output_type": "execute_result"
    }
   ],
   "source": [
    "project_sql_result_04.isnull().sum()"
   ]
  },
  {
   "cell_type": "markdown",
   "metadata": {},
   "source": [
    "In the 'project_sql_result_04' dataset, there are no missing values."
   ]
  },
  {
   "cell_type": "markdown",
   "metadata": {},
   "source": [
    "**Determining top 10 taxi \"company_name\" considering \"trips_amount\":**"
   ]
  },
  {
   "cell_type": "code",
   "execution_count": 10,
   "metadata": {},
   "outputs": [
    {
     "name": "stdout",
     "output_type": "stream",
     "text": [
      "                        company_name  trips_amount\n",
      "0                          Flash Cab         19558\n",
      "1          Taxi Affiliation Services         11422\n",
      "2                   Medallion Leasin         10367\n",
      "3                         Yellow Cab          9888\n",
      "4    Taxi Affiliation Service Yellow          9299\n",
      "5          Chicago Carriage Cab Corp          9181\n",
      "6                       City Service          8448\n",
      "7                           Sun Taxi          7701\n",
      "8          Star North Management LLC          7455\n",
      "9  Blue Ribbon Taxi Association Inc.          5953\n"
     ]
    }
   ],
   "source": [
    "top_10_taxi = project_sql_result_01.nlargest(10,'trips_amount')\n",
    "print( top_10_taxi)"
   ]
  },
  {
   "cell_type": "markdown",
   "metadata": {},
   "source": [
    "The three taxi named \"Flash cab\", \"Taxi Affiliation Services\" and \"Medallion Leasing\" have trips_amount more than 10000."
   ]
  },
  {
   "cell_type": "markdown",
   "metadata": {},
   "source": [
    "**Determining top 10 neighborhoods \"dropoff_location_name\" considering \"average_trips\":**"
   ]
  },
  {
   "cell_type": "code",
   "execution_count": 11,
   "metadata": {},
   "outputs": [
    {
     "name": "stdout",
     "output_type": "stream",
     "text": [
      "  dropoff_location_name  average_trips\n",
      "0                  Loop   10727.466667\n",
      "1           River North    9523.666667\n",
      "2         Streeterville    6664.666667\n",
      "3             West Loop    5163.666667\n",
      "4                O'Hare    2546.900000\n",
      "5             Lake View    2420.966667\n",
      "6            Grant Park    2068.533333\n",
      "7         Museum Campus    1510.000000\n",
      "8            Gold Coast    1364.233333\n",
      "9    Sheffield & DePaul    1259.766667\n"
     ]
    }
   ],
   "source": [
    "top_10_neighborhoods = project_sql_result_04.nlargest(10,'average_trips')\n",
    "print(top_10_neighborhoods)"
   ]
  },
  {
   "cell_type": "markdown",
   "metadata": {},
   "source": [
    "Among all of the dropoff_location_name, only \"Loop\" has average_trips more than 10000. Except \"Loop\" dropoff_location_name others have average_trips less than 10000."
   ]
  },
  {
   "cell_type": "markdown",
   "metadata": {},
   "source": [
    "**Drwaing histogram for \"trips_amount\":**"
   ]
  },
  {
   "cell_type": "code",
   "execution_count": 12,
   "metadata": {},
   "outputs": [
    {
     "data": {
      "image/png": "[encoded data removed]",
      "text/plain": [
       "<Figure size 432x288 with 1 Axes>"
      ]
     },
     "metadata": {
      "needs_background": "light"
     },
     "output_type": "display_data"
    }
   ],
   "source": [
    "project_sql_result_01.hist('trips_amount', bins = 20, range = (0,20000))\n",
    "plt.xlabel('trips_amount')\n",
    "plt.ylabel('Frequency')\n",
    "plt.show()\n"
   ]
  },
  {
   "cell_type": "markdown",
   "metadata": {},
   "source": [
    "In the project_sql_result_01 dataset, maximum number of trips_amount are between 0 to around 1000."
   ]
  },
  {
   "cell_type": "markdown",
   "metadata": {},
   "source": [
    "**Drwaing histogram for \"average_trip\":**"
   ]
  },
  {
   "cell_type": "code",
   "execution_count": 13,
   "metadata": {},
   "outputs": [
    {
     "data": {
      "image/png": "[encoded data removed]",
      "text/plain": [
       "<Figure size 432x288 with 1 Axes>"
      ]
     },
     "metadata": {
      "needs_background": "light"
     },
     "output_type": "display_data"
    }
   ],
   "source": [
    "project_sql_result_04.hist('average_trips', bins = 10, range = (0,11000))\n",
    "plt.xlabel('average_trips')\n",
    "plt.ylabel('Frequency')\n",
    "plt.show()"
   ]
  },
  {
   "cell_type": "markdown",
   "metadata": {},
   "source": [
    "In the project_sql_result_04 dataset, maximum number of average_trips are between 0 to  around 1000."
   ]
  },
  {
   "cell_type": "markdown",
   "metadata": {},
   "source": [
    "Finally\n",
    "-  There are 64 rows & 2 columns in the 'project_sql_result_01' dataset.\n",
    "-  There are 94 rows & 2 columns in the 'project_sql_result_04' dataset.\n",
    "-  The three taxi named \"Flash cab\", \"Taxi Affiliation Services\" and \"Medallion Leasing\" have trips_amount more than 10000.\n",
    "-  Among all of the dropoff_location_name, only \"Loop\" has average_trips more than 10000. Except \"Loop\" dropoff_location_name others have average_trips less than 10000.\n",
    "-  In the project_sql_result_01 dataset, maximum number of trips_amount are between 0 to around 1000.\n",
    "-  In the project_sql_result_04 dataset, maximum number of average_trips are between 0 to around 1000."
   ]
  },
  {
   "cell_type": "markdown",
   "metadata": {},
   "source": [
    "<a id='the_destination5'></a>\n",
    "# Step 5. Testing hypotheses(Python)"
   ]
  },
  {
   "cell_type": "markdown",
   "metadata": {},
   "source": [
    "**Information for the \"project_sql_result_07\" dataset:**"
   ]
  },
  {
   "cell_type": "code",
   "execution_count": 14,
   "metadata": {},
   "outputs": [
    {
     "name": "stdout",
     "output_type": "stream",
     "text": [
      "<class 'pandas.core.frame.DataFrame'>\n",
      "RangeIndex: 1068 entries, 0 to 1067\n",
      "Data columns (total 3 columns):\n",
      "start_ts              1068 non-null object\n",
      "weather_conditions    1068 non-null object\n",
      "duration_seconds      1068 non-null float64\n",
      "dtypes: float64(1), object(2)\n",
      "memory usage: 25.2+ KB\n"
     ]
    },
    {
     "data": {
      "text/html": [
       "<div>\n",
       "<style scoped>\n",
       "    .dataframe tbody tr th:only-of-type {\n",
       "        vertical-align: middle;\n",
       "    }\n",
       "\n",
       "    .dataframe tbody tr th {\n",
       "        vertical-align: top;\n",
       "    }\n",
       "\n",
       "    .dataframe thead th {\n",
       "        text-align: right;\n",
       "    }\n",
       "</style>\n",
       "<table border=\"1\" class=\"dataframe\">\n",
       "  <thead>\n",
       "    <tr style=\"text-align: right;\">\n",
       "      <th></th>\n",
       "      <th>start_ts</th>\n",
       "      <th>weather_conditions</th>\n",
       "      <th>duration_seconds</th>\n",
       "    </tr>\n",
       "  </thead>\n",
       "  <tbody>\n",
       "    <tr>\n",
       "      <td>0</td>\n",
       "      <td>2017-11-25 16:00:00</td>\n",
       "      <td>Good</td>\n",
       "      <td>2410.0</td>\n",
       "    </tr>\n",
       "    <tr>\n",
       "      <td>1</td>\n",
       "      <td>2017-11-25 14:00:00</td>\n",
       "      <td>Good</td>\n",
       "      <td>1920.0</td>\n",
       "    </tr>\n",
       "    <tr>\n",
       "      <td>2</td>\n",
       "      <td>2017-11-25 12:00:00</td>\n",
       "      <td>Good</td>\n",
       "      <td>1543.0</td>\n",
       "    </tr>\n",
       "    <tr>\n",
       "      <td>3</td>\n",
       "      <td>2017-11-04 10:00:00</td>\n",
       "      <td>Good</td>\n",
       "      <td>2512.0</td>\n",
       "    </tr>\n",
       "    <tr>\n",
       "      <td>4</td>\n",
       "      <td>2017-11-11 07:00:00</td>\n",
       "      <td>Good</td>\n",
       "      <td>1440.0</td>\n",
       "    </tr>\n",
       "    <tr>\n",
       "      <td>...</td>\n",
       "      <td>...</td>\n",
       "      <td>...</td>\n",
       "      <td>...</td>\n",
       "    </tr>\n",
       "    <tr>\n",
       "      <td>1063</td>\n",
       "      <td>2017-11-25 11:00:00</td>\n",
       "      <td>Good</td>\n",
       "      <td>0.0</td>\n",
       "    </tr>\n",
       "    <tr>\n",
       "      <td>1064</td>\n",
       "      <td>2017-11-11 10:00:00</td>\n",
       "      <td>Good</td>\n",
       "      <td>1318.0</td>\n",
       "    </tr>\n",
       "    <tr>\n",
       "      <td>1065</td>\n",
       "      <td>2017-11-11 13:00:00</td>\n",
       "      <td>Good</td>\n",
       "      <td>2100.0</td>\n",
       "    </tr>\n",
       "    <tr>\n",
       "      <td>1066</td>\n",
       "      <td>2017-11-11 08:00:00</td>\n",
       "      <td>Good</td>\n",
       "      <td>1380.0</td>\n",
       "    </tr>\n",
       "    <tr>\n",
       "      <td>1067</td>\n",
       "      <td>2017-11-04 16:00:00</td>\n",
       "      <td>Bad</td>\n",
       "      <td>2834.0</td>\n",
       "    </tr>\n",
       "  </tbody>\n",
       "</table>\n",
       "<p>1068 rows × 3 columns</p>\n",
       "</div>"
      ],
      "text/plain": [
       "                 start_ts weather_conditions  duration_seconds\n",
       "0     2017-11-25 16:00:00               Good            2410.0\n",
       "1     2017-11-25 14:00:00               Good            1920.0\n",
       "2     2017-11-25 12:00:00               Good            1543.0\n",
       "3     2017-11-04 10:00:00               Good            2512.0\n",
       "4     2017-11-11 07:00:00               Good            1440.0\n",
       "...                   ...                ...               ...\n",
       "1063  2017-11-25 11:00:00               Good               0.0\n",
       "1064  2017-11-11 10:00:00               Good            1318.0\n",
       "1065  2017-11-11 13:00:00               Good            2100.0\n",
       "1066  2017-11-11 08:00:00               Good            1380.0\n",
       "1067  2017-11-04 16:00:00                Bad            2834.0\n",
       "\n",
       "[1068 rows x 3 columns]"
      ]
     },
     "metadata": {},
     "output_type": "display_data"
    }
   ],
   "source": [
    "try:\n",
    "    project_sql_result_07 = pd.read_csv('project_sql_result_07.csv')\n",
    "except:\n",
    "    project_sql_result_07 = pd.read_csv('/datasets/project_sql_result_07.csv.')\n",
    "project_sql_result_07.info()\n",
    "display(project_sql_result_07)"
   ]
  },
  {
   "cell_type": "markdown",
   "metadata": {},
   "source": [
    "There are 1068 rows & 3 columns in the 'project_sql_result_07' dataset."
   ]
  },
  {
   "cell_type": "markdown",
   "metadata": {},
   "source": [
    "**Checking data types:**"
   ]
  },
  {
   "cell_type": "code",
   "execution_count": 15,
   "metadata": {},
   "outputs": [
    {
     "data": {
      "text/plain": [
       "start_ts               object\n",
       "weather_conditions     object\n",
       "duration_seconds      float64\n",
       "dtype: object"
      ]
     },
     "execution_count": 15,
     "metadata": {},
     "output_type": "execute_result"
    }
   ],
   "source": [
    "project_sql_result_07.dtypes"
   ]
  },
  {
   "cell_type": "markdown",
   "metadata": {},
   "source": [
    "In the 'project_sql_result_07' dataset, 'weather_conditions' column is object data type , 'duration_seconds' is the float data type & 'start_ts' column is object data type."
   ]
  },
  {
   "cell_type": "markdown",
   "metadata": {},
   "source": [
    "**Changing data types in the \"duration_seconds\" and \"start_ts\" column:**"
   ]
  },
  {
   "cell_type": "code",
   "execution_count": 16,
   "metadata": {},
   "outputs": [],
   "source": [
    "project_sql_result_07['duration_seconds'] = project_sql_result_07['duration_seconds'].astype(int)\n",
    "project_sql_result_07['start_ts'] = pd.to_datetime(project_sql_result_07['start_ts'], format='%Y-%m-%d %H:%M:%S')"
   ]
  },
  {
   "cell_type": "markdown",
   "metadata": {},
   "source": [
    "In the project_sql_result_07 dataset, \"duration_seconds\" column was float data type. I converted it from float to integer & \"start_ts\" column was object data type. I converted it from object to date time format."
   ]
  },
  {
   "cell_type": "markdown",
   "metadata": {},
   "source": [
    "**Checking duplicates in the 'project_sql_result_07' dataset:**"
   ]
  },
  {
   "cell_type": "code",
   "execution_count": 17,
   "metadata": {
    "scrolled": true
   },
   "outputs": [
    {
     "name": "stdout",
     "output_type": "stream",
     "text": [
      "197\n"
     ]
    }
   ],
   "source": [
    "print(project_sql_result_07.duplicated().sum())"
   ]
  },
  {
   "cell_type": "markdown",
   "metadata": {},
   "source": [
    "In the 'project_sql_result_07' dataset, there are 197 duplicate values."
   ]
  },
  {
   "cell_type": "markdown",
   "metadata": {},
   "source": [
    "**Deleting duplicates in the 'project_sql_result_07' dataset:**"
   ]
  },
  {
   "cell_type": "code",
   "execution_count": 18,
   "metadata": {},
   "outputs": [
    {
     "data": {
      "text/html": [
       "<div>\n",
       "<style scoped>\n",
       "    .dataframe tbody tr th:only-of-type {\n",
       "        vertical-align: middle;\n",
       "    }\n",
       "\n",
       "    .dataframe tbody tr th {\n",
       "        vertical-align: top;\n",
       "    }\n",
       "\n",
       "    .dataframe thead th {\n",
       "        text-align: right;\n",
       "    }\n",
       "</style>\n",
       "<table border=\"1\" class=\"dataframe\">\n",
       "  <thead>\n",
       "    <tr style=\"text-align: right;\">\n",
       "      <th></th>\n",
       "      <th>start_ts</th>\n",
       "      <th>weather_conditions</th>\n",
       "      <th>duration_seconds</th>\n",
       "    </tr>\n",
       "  </thead>\n",
       "  <tbody>\n",
       "    <tr>\n",
       "      <td>0</td>\n",
       "      <td>2017-11-25 16:00:00</td>\n",
       "      <td>Good</td>\n",
       "      <td>2410</td>\n",
       "    </tr>\n",
       "    <tr>\n",
       "      <td>1</td>\n",
       "      <td>2017-11-25 14:00:00</td>\n",
       "      <td>Good</td>\n",
       "      <td>1920</td>\n",
       "    </tr>\n",
       "    <tr>\n",
       "      <td>2</td>\n",
       "      <td>2017-11-25 12:00:00</td>\n",
       "      <td>Good</td>\n",
       "      <td>1543</td>\n",
       "    </tr>\n",
       "    <tr>\n",
       "      <td>3</td>\n",
       "      <td>2017-11-04 10:00:00</td>\n",
       "      <td>Good</td>\n",
       "      <td>2512</td>\n",
       "    </tr>\n",
       "    <tr>\n",
       "      <td>4</td>\n",
       "      <td>2017-11-11 07:00:00</td>\n",
       "      <td>Good</td>\n",
       "      <td>1440</td>\n",
       "    </tr>\n",
       "    <tr>\n",
       "      <td>...</td>\n",
       "      <td>...</td>\n",
       "      <td>...</td>\n",
       "      <td>...</td>\n",
       "    </tr>\n",
       "    <tr>\n",
       "      <td>866</td>\n",
       "      <td>2017-11-04 14:00:00</td>\n",
       "      <td>Good</td>\n",
       "      <td>2700</td>\n",
       "    </tr>\n",
       "    <tr>\n",
       "      <td>867</td>\n",
       "      <td>2017-11-18 16:00:00</td>\n",
       "      <td>Bad</td>\n",
       "      <td>2186</td>\n",
       "    </tr>\n",
       "    <tr>\n",
       "      <td>868</td>\n",
       "      <td>2017-11-25 11:00:00</td>\n",
       "      <td>Good</td>\n",
       "      <td>0</td>\n",
       "    </tr>\n",
       "    <tr>\n",
       "      <td>869</td>\n",
       "      <td>2017-11-11 10:00:00</td>\n",
       "      <td>Good</td>\n",
       "      <td>1318</td>\n",
       "    </tr>\n",
       "    <tr>\n",
       "      <td>870</td>\n",
       "      <td>2017-11-04 16:00:00</td>\n",
       "      <td>Bad</td>\n",
       "      <td>2834</td>\n",
       "    </tr>\n",
       "  </tbody>\n",
       "</table>\n",
       "<p>871 rows × 3 columns</p>\n",
       "</div>"
      ],
      "text/plain": [
       "               start_ts weather_conditions  duration_seconds\n",
       "0   2017-11-25 16:00:00               Good              2410\n",
       "1   2017-11-25 14:00:00               Good              1920\n",
       "2   2017-11-25 12:00:00               Good              1543\n",
       "3   2017-11-04 10:00:00               Good              2512\n",
       "4   2017-11-11 07:00:00               Good              1440\n",
       "..                  ...                ...               ...\n",
       "866 2017-11-04 14:00:00               Good              2700\n",
       "867 2017-11-18 16:00:00                Bad              2186\n",
       "868 2017-11-25 11:00:00               Good                 0\n",
       "869 2017-11-11 10:00:00               Good              1318\n",
       "870 2017-11-04 16:00:00                Bad              2834\n",
       "\n",
       "[871 rows x 3 columns]"
      ]
     },
     "execution_count": 18,
     "metadata": {},
     "output_type": "execute_result"
    }
   ],
   "source": [
    "project_sql_result_07.drop_duplicates().reset_index(drop = True)"
   ]
  },
  {
   "cell_type": "markdown",
   "metadata": {},
   "source": [
    "I deleted the duplicated values in the project_sql_result_07 dataset."
   ]
  },
  {
   "cell_type": "markdown",
   "metadata": {},
   "source": [
    "**Checking missing values in the 'project_sql_result_07' dataset:**"
   ]
  },
  {
   "cell_type": "code",
   "execution_count": 19,
   "metadata": {},
   "outputs": [
    {
     "data": {
      "text/plain": [
       "start_ts              0\n",
       "weather_conditions    0\n",
       "duration_seconds      0\n",
       "dtype: int64"
      ]
     },
     "execution_count": 19,
     "metadata": {},
     "output_type": "execute_result"
    }
   ],
   "source": [
    "project_sql_result_07.isnull().sum()"
   ]
  },
  {
   "cell_type": "markdown",
   "metadata": {},
   "source": [
    "In the 'project_sql_result_07' dataset, there are no missing values."
   ]
  },
  {
   "cell_type": "markdown",
   "metadata": {},
   "source": [
    "**Hypothsis formulation:**\n",
    "\n",
    "- Null Hypothesis (H_0) : The average duration of rides from the Loop to O'Hare International Airport changes on rainy Saturdays.\n",
    "\n",
    "\n",
    "- Alternative hypothesis (H_1) : The average duration of rides from the Loop to O'Hare International Airport changes on sunny Saturdays."
   ]
  },
  {
   "cell_type": "markdown",
   "metadata": {},
   "source": []
  },
  {
   "cell_type": "markdown",
   "metadata": {},
   "source": [
    "**Comparison of variance for the \"Good\" and \"Bad\" weather_conditions:**"
   ]
  },
  {
   "cell_type": "code",
   "execution_count": 20,
   "metadata": {},
   "outputs": [
    {
     "name": "stdout",
     "output_type": "stream",
     "text": [
      "variance are not equal. So the parameter : equal_var = False \n"
     ]
    }
   ],
   "source": [
    "variance_01 = np.var(project_sql_result_07.query('weather_conditions == \"Good\"')['duration_seconds'])\n",
    "variance_02 = np.var(project_sql_result_07.query('weather_conditions == \"Bad\"')['duration_seconds'])\n",
    " \n",
    "if variance_01 == variance_02:\n",
    "    print('both variance are equal')\n",
    "elif variance_01 != variance_02:\n",
    "    print('variance are not equal. So the parameter : equal_var = False ')\n",
    "else:\n",
    "    print(\"can not be compared\")"
   ]
  },
  {
   "cell_type": "markdown",
   "metadata": {},
   "source": [
    "**Applying critical statistical significance level and getting decision regarding null hypothesis:**"
   ]
  },
  {
   "cell_type": "code",
   "execution_count": 21,
   "metadata": {},
   "outputs": [
    {
     "name": "stdout",
     "output_type": "stream",
     "text": [
      "p-value: 6.738994326108734e-12\n",
      "We reject the null hypothesis\n"
     ]
    }
   ],
   "source": [
    "alpha = 0.05 \n",
    "results = st.ttest_ind(project_sql_result_07.query('weather_conditions == \"Good\"')['duration_seconds'],project_sql_result_07.query('weather_conditions == \"Bad\"')['duration_seconds'] , equal_var = False )\n",
    "print('p-value:', results.pvalue)\n",
    "if (results.pvalue < alpha):\n",
    "    print(\"We reject the null hypothesis\")\n",
    "else:\n",
    "    print(\"We can't reject the null hypothesis\")"
   ]
  },
  {
   "cell_type": "markdown",
   "metadata": {},
   "source": [
    "As we are rejecting null hypothesis that means the average duration of rides from the Loop to O'Hare International Airport changes on good Saturdays."
   ]
  },
  {
   "cell_type": "markdown",
   "metadata": {},
   "source": [
    "**Finding mean for the \"Good\" and \"Bad\" weather_conditions for \"duration_seconds\":**"
   ]
  },
  {
   "cell_type": "code",
   "execution_count": 22,
   "metadata": {},
   "outputs": [
    {
     "name": "stdout",
     "output_type": "stream",
     "text": [
      "number of rides with good weather on saturdays:  888\n",
      "average duration  of rides with good weather on saturdays:  1999.6756756756756\n",
      "number of rides on rainy saturdays:  180\n",
      "average duration  of rides on rainy saturdays:   2427.2055555555557\n"
     ]
    }
   ],
   "source": [
    "#Calculation of averages duration of rides on sunny Saturdays\n",
    "# we consider monday as value 0 so saturday = 5\n",
    "# extract data where saturdays =    good weather\n",
    "rides_no_rain = project_sql_result_07[(project_sql_result_07['weather_conditions'] =='Good')&(project_sql_result_07['start_ts'].dt.weekday==5)] ['duration_seconds'].values\n",
    "print(\"number of rides with good weather on saturdays: \",len (rides_no_rain))\n",
    "print(\"average duration  of rides with good weather on saturdays: \",rides_no_rain.mean())\n",
    "\n",
    "#Calculation of averages duration of rides on rainy Saturdays\n",
    "# we consider monday as value 0 so saturday = 5\n",
    "# extract data where saturdays =   rainy\n",
    "rides_bad = project_sql_result_07[(project_sql_result_07['weather_conditions'] =='Bad')&(project_sql_result_07['start_ts'].dt.weekday==5)]['duration_seconds'].values \n",
    "print(\"number of rides on rainy saturdays: \",len(rides_bad))\n",
    "print(\"average duration  of rides on rainy saturdays:  \",rides_bad.mean())"
   ]
  },
  {
   "cell_type": "markdown",
   "metadata": {},
   "source": [
    " Average duration  of rides with good weather & rainy weather on saturdays are not same. Number of rides with good weather on saturdays are more compared to the number of rides on rainy saturdays."
   ]
  },
  {
   "cell_type": "markdown",
   "metadata": {},
   "source": [
    "<a id='the_destination'></a>\n",
    "# Overall Conclusion"
   ]
  },
  {
   "cell_type": "markdown",
   "metadata": {},
   "source": [
    "-  Passengers are more interested for using \"Flash Cab\", \"Taxi Affiliation Services\" & \"Medallion Leasing\" taxi company_name considering trips_amount.\n",
    "-  Considering average_trips the most popular dropoff_location_name are Loop, River North, Streeterville & West Loop. \n",
    "-  Number of rides with good weather on saturdays are more compared to the number of rides on rainy saturdays."
   ]
  },
  {
   "cell_type": "code",
   "execution_count": null,
   "metadata": {},
   "outputs": [],
   "source": []
  }
 ],
 "metadata": {
  "kernelspec": {
   "display_name": "Python 3",
   "language": "python",
   "name": "python3"
  },
  "language_info": {
   "codemirror_mode": {
    "name": "ipython",
    "version": 3
   },
   "file_extension": ".py",
   "mimetype": "text/x-python",
   "name": "python",
   "nbconvert_exporter": "python",
   "pygments_lexer": "ipython3",
   "version": "3.7.4"
  },
  "toc": {
   "base_numbering": 1,
   "nav_menu": {},
   "number_sections": true,
   "sideBar": true,
   "skip_h1_title": true,
   "title_cell": "Table of Contents",
   "title_sidebar": "Contents",
   "toc_cell": false,
   "toc_position": {},
   "toc_section_display": true,
   "toc_window_display": false
  }
 },
 "nbformat": 4,
 "nbformat_minor": 2
}
